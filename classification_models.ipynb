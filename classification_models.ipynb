{
 "cells": [
  {
   "cell_type": "markdown",
   "id": "31d58d14",
   "metadata": {},
   "source": [
    "### Import libraries"
   ]
  },
  {
   "cell_type": "code",
   "execution_count": 6,
   "id": "887f6d1b",
   "metadata": {},
   "outputs": [],
   "source": [
    "from sklearn.utils import resample\n",
    "from sklearn.feature_selection import SelectKBest, f_classif\n",
    "from sklearn.model_selection import train_test_split\n",
    "from sklearn.linear_model import LogisticRegression\n",
    "from sklearn.metrics import accuracy_score, f1_score\n",
    "import pandas as pd\n",
    "import numpy as np\n",
    "seed = 1234\n",
    "np.random.seed(seed)"
   ]
  },
  {
   "cell_type": "markdown",
   "id": "cda5b6fe",
   "metadata": {},
   "source": [
    "### Process data"
   ]
  },
  {
   "cell_type": "code",
   "execution_count": 21,
   "id": "fa75d4f5",
   "metadata": {},
   "outputs": [],
   "source": [
    "# Read data\n",
    "data = pd.read_csv('data_as_numerical.csv')\n",
    "# Get rid of unnecessary columns\n",
    "data = data[['sex', 'has_car',\n",
    "       'has_property', 'num_children', 'annual_income', 'income_type',\n",
    "       'education_type', 'marital_status', 'housing_type', 'age',\n",
    "       'days_employed', 'has_work_phone', 'has_phone',\n",
    "       'has_email', 'occupation_type', 'num_fam_members', 'default']]\n",
    "\n",
    "X = data.loc[:, data.columns != 'default']\n",
    "y = data.loc[:, \"default\"]"
   ]
  },
  {
   "cell_type": "code",
   "execution_count": 22,
   "id": "4cf5f426",
   "metadata": {},
   "outputs": [
    {
     "data": {
      "text/plain": [
       "array(['sex', 'has_property', 'marital_status', 'days_employed',\n",
       "       'occupation_type'], dtype=object)"
      ]
     },
     "execution_count": 22,
     "metadata": {},
     "output_type": "execute_result"
    }
   ],
   "source": [
    "# Feature selection using F-test as scoring function (best 5)\n",
    "selector = SelectKBest(f_classif, k=5)\n",
    "X = selector.fit_transform(X, y)\n",
    "selector.get_feature_names_out()"
   ]
  },
  {
   "cell_type": "code",
   "execution_count": 23,
   "id": "27cb0df5",
   "metadata": {},
   "outputs": [],
   "source": [
    "# Oversampling\n",
    "data = data[['sex', 'has_property', 'marital_status', 'days_employed',\n",
    "       'occupation_type', 'default']]\n",
    "\n",
    "df_majority = data[data['default']==0]\n",
    "df_minority = data[data['default']==1]\n",
    "df_minority_unsampled = resample(df_minority,\n",
    "                                 replace = True, # sample with replacement\n",
    "                                 n_samples = df_majority.shape[0], # match majority class\n",
    "                                 random_state = seed) #reproducable results\n",
    "\n",
    "df_unsampled = pd.concat([df_minority_unsampled, df_majority])\n",
    "y = df_unsampled['default']\n",
    "X = df_unsampled.loc[:, df_unsampled.columns != 'default']"
   ]
  },
  {
   "cell_type": "code",
   "execution_count": 24,
   "id": "c45a6472",
   "metadata": {},
   "outputs": [
    {
     "name": "stdout",
     "output_type": "stream",
     "text": [
      "The Accuracy Score for Logistic Regression is 0.56648\n",
      "The F1 Score for Logistic Regression is 0.54242\n"
     ]
    }
   ],
   "source": [
    "# Split the data\n",
    "X_tr, X_te, y_tr, y_te = train_test_split(X, y, test_size=0.20, random_state=seed, stratify=y)\n",
    "\n",
    "# Fit the logistic regression model\n",
    "model1 = LogisticRegression(random_state=seed)\n",
    "model1.fit(X_tr, y_tr)\n",
    "Y_predict = model1.predict(X_te)\n",
    "\n",
    "print('The Accuracy Score for Logistic Regression is {:.5}'.format(accuracy_score(y_te, Y_predict)))\n",
    "print('The F1 Score for Logistic Regression is {:.5}'.format(f1_score(y_te, Y_predict)))"
   ]
  },
  {
   "cell_type": "code",
   "execution_count": null,
   "id": "3f185124",
   "metadata": {},
   "outputs": [],
   "source": []
  }
 ],
 "metadata": {
  "kernelspec": {
   "display_name": "Python 3 (ipykernel)",
   "language": "python",
   "name": "python3"
  },
  "language_info": {
   "codemirror_mode": {
    "name": "ipython",
    "version": 3
   },
   "file_extension": ".py",
   "mimetype": "text/x-python",
   "name": "python",
   "nbconvert_exporter": "python",
   "pygments_lexer": "ipython3",
   "version": "3.9.12"
  }
 },
 "nbformat": 4,
 "nbformat_minor": 5
}
